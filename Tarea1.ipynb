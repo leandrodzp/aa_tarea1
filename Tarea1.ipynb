{
 "cells": [
  {
   "cell_type": "markdown",
   "metadata": {},
   "source": [
    "Cantidad maxima de fichas alineadas."
   ]
  },
  {
   "cell_type": "code",
   "execution_count": 9,
   "metadata": {},
   "outputs": [],
   "source": [
    "import game"
   ]
  },
  {
   "cell_type": "code",
   "execution_count": 10,
   "metadata": {},
   "outputs": [],
   "source": [
    "g = game.Game()"
   ]
  },
  {
   "cell_type": "code",
   "execution_count": 11,
   "metadata": {},
   "outputs": [
    {
     "data": {
      "text/plain": [
       "array([[0, 1, 2, 0, 2],\n",
       "       [0, 0, 2, 0, 0],\n",
       "       [1, 0, 0, 0, 0],\n",
       "       [2, 1, 0, 0, 0],\n",
       "       [1, 0, 0, 0, 0]])"
      ]
     },
     "execution_count": 11,
     "metadata": {},
     "output_type": "execute_result"
    }
   ],
   "source": [
    "g.board"
   ]
  },
  {
   "cell_type": "code",
   "execution_count": 12,
   "metadata": {},
   "outputs": [],
   "source": [
    "from constants import DIMENSION, FREE, PLAYER_1, PLAYER_2, ROW, COL\n",
    "\n",
    "def max_fichas_alineadas(player, game):\n",
    "    # create an iterator object from that iterable\n",
    "    \n",
    "    my_pieces = g.my_pieces(player)\n",
    "    my_pieces.sort()\n",
    "    max = 1\n",
    "    cant = 0\n",
    "\n",
    "    # checks the largest current line\n",
    "    for coord in my_pieces:\n",
    "        # also check squares\n",
    "        if coord[0]+1 < DIMENSION and coord[1]+1 < DIMENSION and (coord[0]+1, coord[1]+1) in my_pieces: # right diagonal\n",
    "            if coord[0]+2 < DIMENSION and coord[1]+2 < DIMENSION and (coord[0]+2, coord[1]+2) in my_pieces: # right diagonal\n",
    "                if coord[0]+3 < DIMENSION and coord[1]+3 < DIMENSION and (coord[0]+3, coord[1]+3) in my_pieces: # right diagonal\n",
    "                    print((coord[0]+3, coord[1]+3))\n",
    "                    return 4\n",
    "                else:\n",
    "                    return 3\n",
    "            else:\n",
    "                return 2\n",
    "        # also check squares\n",
    "        if coord[0]+1 < DIMENSION and coord[1]-1 >= 0 and (coord[0]+1, coord[1]-1) in my_pieces: # left diagonal\n",
    "            if coord[0]+2 < DIMENSION and coord[1]-2 >= 0 and (coord[0]+2, coord[1]-2) in my_pieces: # left diagonal\n",
    "                if coord[0]+3 < DIMENSION and coord[1]-3 >= 0 and (coord[0]+3, coord[1]-3) in my_pieces: # left diagonal\n",
    "                    return 4\n",
    "                else:\n",
    "                    return 3\n",
    "            else:\n",
    "                return 2\n",
    "        if coord[1]+1 < DIMENSION and (coord[0], coord[1]+1) in my_pieces: # ->\n",
    "            if coord[1]+2 < DIMENSION and (coord[0], coord[1]+2) in my_pieces: # -->\n",
    "                if coord[1]+3 < DIMENSION and (coord[0], coord[1]+3) in my_pieces: # --->\n",
    "                    print((coord[0], coord[1]+3))\n",
    "                    return 4\n",
    "                else:\n",
    "                    return 3\n",
    "            else:\n",
    "                return 2\n",
    "        if coord[0]+1 < DIMENSION and (coord[0]+1, coord[1]) in my_pieces: # downwards\n",
    "            if coord[0]+2 < DIMENSION and (coord[0]+2, coord[1]) in my_pieces: # downwards\n",
    "                if coord[0]+3 < DIMENSION and (coord[0]+3, coord[1]) in my_pieces: # downwards\n",
    "                    print((coord[0]+3, coord[1]))\n",
    "                    return 4\n",
    "                else:\n",
    "                    return 3\n",
    "            else:\n",
    "                return 2\n",
    "        # bandera para asegurar que evalue todas mis fichas.\n",
    "        cant += 1    \n",
    "        if cant == 4:\n",
    "            return 1"
   ]
  },
  {
   "cell_type": "code",
   "execution_count": 13,
   "metadata": {},
   "outputs": [
    {
     "data": {
      "text/plain": [
       "2"
      ]
     },
     "execution_count": 13,
     "metadata": {},
     "output_type": "execute_result"
    }
   ],
   "source": [
    "max_fichas_alineadas(2, g)"
   ]
  },
  {
   "cell_type": "code",
   "execution_count": 14,
   "metadata": {},
   "outputs": [
    {
     "data": {
      "text/plain": [
       "array([[0, 1, 2, 0, 2],\n",
       "       [0, 0, 2, 0, 0],\n",
       "       [1, 0, 0, 0, 0],\n",
       "       [2, 1, 0, 0, 0],\n",
       "       [1, 0, 0, 0, 0]])"
      ]
     },
     "execution_count": 14,
     "metadata": {},
     "output_type": "execute_result"
    }
   ],
   "source": [
    "g.board"
   ]
  },
  {
   "cell_type": "code",
   "execution_count": 15,
   "metadata": {},
   "outputs": [
    {
     "data": {
      "text/plain": [
       "[(0, 2), (0, 4), (1, 2), (3, 0)]"
      ]
     },
     "execution_count": 15,
     "metadata": {},
     "output_type": "execute_result"
    }
   ],
   "source": [
    "g.my_pieces(2)"
   ]
  },
  {
   "cell_type": "code",
   "execution_count": 16,
   "metadata": {},
   "outputs": [
    {
     "name": "stdout",
     "output_type": "stream",
     "text": [
      "(3, 3)\n"
     ]
    },
    {
     "data": {
      "text/plain": [
       "4"
      ]
     },
     "execution_count": 16,
     "metadata": {},
     "output_type": "execute_result"
    }
   ],
   "source": [
    "max_fichas_alineadas(0, g)"
   ]
  },
  {
   "cell_type": "code",
   "execution_count": null,
   "metadata": {},
   "outputs": [],
   "source": []
  }
 ],
 "metadata": {
  "kernelspec": {
   "display_name": "Python 3",
   "language": "python",
   "name": "python3"
  },
  "language_info": {
   "codemirror_mode": {
    "name": "ipython",
    "version": 3
   },
   "file_extension": ".py",
   "mimetype": "text/x-python",
   "name": "python",
   "nbconvert_exporter": "python",
   "pygments_lexer": "ipython3",
   "version": "3.7.4"
  }
 },
 "nbformat": 4,
 "nbformat_minor": 2
}
