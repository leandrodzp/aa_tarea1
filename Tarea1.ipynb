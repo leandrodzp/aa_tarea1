{
 "cells": [
  {
   "cell_type": "markdown",
   "metadata": {},
   "source": [
    "Cantidad maxima de fichas alineadas."
   ]
  },
  {
   "cell_type": "code",
   "execution_count": 1,
   "metadata": {},
   "outputs": [],
   "source": [
    "import game"
   ]
  },
  {
   "cell_type": "code",
   "execution_count": 22,
   "metadata": {},
   "outputs": [],
   "source": [
    "g = game.Game()"
   ]
  },
  {
   "cell_type": "code",
   "execution_count": 23,
   "metadata": {},
   "outputs": [
    {
     "data": {
      "text/plain": [
       "array([[2, 0, 0, 0, 2],\n",
       "       [0, 1, 1, 0, 0],\n",
       "       [1, 2, 0, 0, 0],\n",
       "       [0, 0, 1, 0, 0],\n",
       "       [2, 0, 0, 0, 0]])"
      ]
     },
     "execution_count": 23,
     "metadata": {},
     "output_type": "execute_result"
    }
   ],
   "source": [
    "g.board"
   ]
  },
  {
   "cell_type": "code",
   "execution_count": 85,
   "metadata": {},
   "outputs": [],
   "source": [
    "from constants import DIMENSION, FREE, PLAYER_1, PLAYER_2, ROW, COL\n",
    "\n",
    "def max_fichas_alineadas(player, game):\n",
    "    # create an iterator object from that iterable\n",
    "    \n",
    "    my_pieces = g.my_pieces(player)\n",
    "    my_pieces.sort()\n",
    "    max = 1\n",
    "\n",
    "    # checks the largest current line\n",
    "    for coord in my_pieces:\n",
    "        # get the next item\n",
    "        if coord[1]+1 < DIMENSION and (coord[0], coord[1]+1) in my_pieces: # ->\n",
    "            if coord[1]+2 < DIMENSION and (coord[0], coord[1]+2) in my_pieces: # -->\n",
    "                if coord[1]+3 < DIMENSION and (coord[0], coord[1]+3) in my_pieces: # --->\n",
    "                    print((coord[0], coord[1]+3))\n",
    "                    return 4\n",
    "                else:\n",
    "                    return 3\n",
    "            else:\n",
    "                return 2\n",
    "        if coord[0]+1 < DIMENSION and coord[1]+1 < DIMENSION and (coord[0]+1, coord[1]+1) in my_pieces: # diagonal\n",
    "            if coord[0]+2 < DIMENSION and coord[1]+2 < DIMENSION and (coord[0]+2, coord[1]+2) in my_pieces: # diagonal\n",
    "                if coord[0]+3 < DIMENSION and coord[1]+3 < DIMENSION and (coord[0]+3, coord[1]+3) in my_pieces: # diagonal\n",
    "                    print((coord[0]+3, coord[1]+3))\n",
    "                    return 4\n",
    "                else:\n",
    "                    return 3\n",
    "            else:\n",
    "                return 2\n",
    "        if coord[0]+1 < DIMENSION and (coord[0]+1, coord[1]) in my_pieces: # downwards\n",
    "            if coord[0]+2 < DIMENSION and (coord[0]+2, coord[1]) in my_pieces: # downwards\n",
    "                if coord[0]+3 < DIMENSION and (coord[0]+3, coord[1]) in my_pieces: # downwards\n",
    "                    print((coord[0]+3, coord[1]))\n",
    "                    return 4\n",
    "                else:\n",
    "                    return 3\n",
    "            else:\n",
    "                return 2\n",
    "        return 1"
   ]
  },
  {
   "cell_type": "code",
   "execution_count": 86,
   "metadata": {},
   "outputs": [
    {
     "data": {
      "text/plain": [
       "1"
      ]
     },
     "execution_count": 86,
     "metadata": {},
     "output_type": "execute_result"
    }
   ],
   "source": [
    "max_fichas_alineadas(2, g)"
   ]
  },
  {
   "cell_type": "code",
   "execution_count": 87,
   "metadata": {},
   "outputs": [
    {
     "data": {
      "text/plain": [
       "array([[2, 0, 0, 0, 2],\n",
       "       [0, 1, 1, 0, 0],\n",
       "       [1, 2, 0, 0, 0],\n",
       "       [0, 0, 1, 0, 0],\n",
       "       [2, 0, 0, 0, 0]])"
      ]
     },
     "execution_count": 87,
     "metadata": {},
     "output_type": "execute_result"
    }
   ],
   "source": [
    "g.board"
   ]
  },
  {
   "cell_type": "code",
   "execution_count": 88,
   "metadata": {},
   "outputs": [
    {
     "data": {
      "text/plain": [
       "[(0, 0), (0, 4), (2, 1), (4, 0)]"
      ]
     },
     "execution_count": 88,
     "metadata": {},
     "output_type": "execute_result"
    }
   ],
   "source": [
    "g.my_pieces(2)"
   ]
  },
  {
   "cell_type": "code",
   "execution_count": 89,
   "metadata": {},
   "outputs": [
    {
     "data": {
      "text/plain": [
       "3"
      ]
     },
     "execution_count": 89,
     "metadata": {},
     "output_type": "execute_result"
    }
   ],
   "source": [
    "max_fichas_alineadas(0, g)"
   ]
  },
  {
   "cell_type": "code",
   "execution_count": null,
   "metadata": {},
   "outputs": [],
   "source": []
  }
 ],
 "metadata": {
  "kernelspec": {
   "display_name": "Python 3",
   "language": "python",
   "name": "python3"
  },
  "language_info": {
   "codemirror_mode": {
    "name": "ipython",
    "version": 3
   },
   "file_extension": ".py",
   "mimetype": "text/x-python",
   "name": "python",
   "nbconvert_exporter": "python",
   "pygments_lexer": "ipython3",
   "version": "3.6.8"
  }
 },
 "nbformat": 4,
 "nbformat_minor": 2
}
